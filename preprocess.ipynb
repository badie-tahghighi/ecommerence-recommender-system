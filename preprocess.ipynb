{
 "cells": [
  {
   "cell_type": "code",
   "execution_count": 1,
   "metadata": {
    "collapsed": true,
    "pycharm": {
     "name": "#%%\n"
    }
   },
   "outputs": [],
   "source": [
    "import pandas as pd"
   ]
  },
  {
   "cell_type": "code",
   "execution_count": 14,
   "outputs": [],
   "source": [
    "raw_interactions = pd.read_csv('assets/csv/interactions_dataset.csv')\n",
    "raw_shoes = pd.read_csv('assets/csv/shoes_dataset.csv')\n",
    "raw_users = pd.read_csv('assets/csv/users_dataset.csv')"
   ],
   "metadata": {
    "collapsed": false,
    "pycharm": {
     "name": "#%%\n"
    }
   }
  },
  {
   "cell_type": "code",
   "execution_count": 15,
   "outputs": [
    {
     "name": "stdout",
     "output_type": "stream",
     "text": [
      "       index                                              title  \\\n",
      "0          0  Geox Jr Sandal Strada B Fisherman, Brown Red, ...   \n",
      "1          1                    Fila Women's Oakmont Tr Sneaker   \n",
      "2          3  Merrell Women'S Bare Access Xtr Trail Running ...   \n",
      "3          4  Desigual Women's Shoes_Runner_cmofl Sneakers W...   \n",
      "4          5      Aquatalia Men's Adamo Dress Calf Penny Loafer   \n",
      "...      ...                                                ...   \n",
      "11163  11600  safety footwear v6471 elk grained leather boot...   \n",
      "11164  11601           2711Mezlan Men's Verdi Oxford,Tan,11.5 M   \n",
      "11165  11602  QTZTZ Assassination Classroom Men's canvas sho...   \n",
      "11166  11603  New Balance Women's Rise V1 Cushioning Running...   \n",
      "11167  11604                viking Jolly Winter Rain Boot Child   \n",
      "\n",
      "                   price                        brand        asin  \\\n",
      "0                 £50.00         Visit the Geox Store  B08BLP231K   \n",
      "1       £49.57 - £234.95                         Fila  B08N587YZ9   \n",
      "2       £67.00 - £182.44      Visit the Merrell Store  B07KMB98CG   \n",
      "3        £38.96 - £81.10                     Desigual  B08CN3S1ZK   \n",
      "4      £161.63 - £202.04                    Aquatalia  B07KJX15DV   \n",
      "...                  ...                          ...         ...   \n",
      "11163    £22.33 - £29.99          Visit the V12 Store  B00E9SKPE0   \n",
      "11164            £188.86                       Mezlan  B001VNCTD6   \n",
      "11165             £22.00                        QTZTZ  B09B9Q5CRM   \n",
      "11166            £124.23  Visit the New Balance Store  B07BL2S751   \n",
      "11167    £18.32 - £43.87       Visit the Viking Store  B07TD54MBQ   \n",
      "\n",
      "      outer_material inner_material       sole  closure    heel_height  \\\n",
      "0          Synthetic      Synthetic     Rubber    Strap  2 centimetres   \n",
      "1             fabric            NaN     Rubber  Lace-Up            NaN   \n",
      "2          Synthetic        Manmade  Synthetic  Lace-Up            NaN   \n",
      "3          Polyester      Synthetic     Rubber  Lace-Up            NaN   \n",
      "4                NaN            NaN     Rubber  Pull On            NaN   \n",
      "...              ...            ...        ...      ...            ...   \n",
      "11163            NaN            NaN        NaN      NaN            NaN   \n",
      "11164            NaN            NaN        NaN  Lace-Up            NaN   \n",
      "11165            NaN            NaN        NaN      NaN            NaN   \n",
      "11166         Canvas            NaN     Rubber   Buckle            NaN   \n",
      "11167         Rubber        Manmade     Rubber  Slip-On            NaN   \n",
      "\n",
      "      heel_type shoe_width  \n",
      "0          Flat     Medium  \n",
      "1       No Heel     medium  \n",
      "2           NaN     Medium  \n",
      "3          Flat     Medium  \n",
      "4           NaN     Medium  \n",
      "...         ...        ...  \n",
      "11163       NaN        NaN  \n",
      "11164       NaN     Medium  \n",
      "11165       NaN        NaN  \n",
      "11166  low-heel     Medium  \n",
      "11167       NaN       Weit  \n",
      "\n",
      "[11168 rows x 12 columns]\n"
     ]
    }
   ],
   "source": [
    "raw_shoes.dropna(subset=['price', 'title'], inplace=True)\n",
    "raw_shoes.reset_index(inplace=True)\n",
    "print(raw_shoes)"
   ],
   "metadata": {
    "collapsed": false,
    "pycharm": {
     "name": "#%%\n"
    }
   }
  },
  {
   "cell_type": "code",
   "execution_count": 16,
   "outputs": [
    {
     "data": {
      "text/plain": "0                   £50.00\n1         £49.57 - £234.95\n2         £67.00 - £182.44\n3          £38.96 - £81.10\n4        £161.63 - £202.04\n               ...        \n11163      £22.33 - £29.99\n11164              £188.86\n11165               £22.00\n11166              £124.23\n11167      £18.32 - £43.87\nName: price, Length: 11168, dtype: object"
     },
     "execution_count": 16,
     "metadata": {},
     "output_type": "execute_result"
    }
   ],
   "source": [
    "raw_shoes['price']"
   ],
   "metadata": {
    "collapsed": false,
    "pycharm": {
     "name": "#%%\n"
    }
   }
  },
  {
   "cell_type": "code",
   "execution_count": 17,
   "outputs": [
    {
     "data": {
      "text/plain": "       index                                              title    price  \\\n0          0  Geox Jr Sandal Strada B Fisherman, Brown Red, ...     50.0   \n1          1                    Fila Women's Oakmont Tr Sneaker   142.26   \n2          3  Merrell Women'S Bare Access Xtr Trail Running ...   124.72   \n3          4  Desigual Women's Shoes_Runner_cmofl Sneakers W...    60.03   \n4          5      Aquatalia Men's Adamo Dress Calf Penny Loafer  181.835   \n...      ...                                                ...      ...   \n11163  11600  safety footwear v6471 elk grained leather boot...    26.16   \n11164  11601           2711Mezlan Men's Verdi Oxford,Tan,11.5 M   188.86   \n11165  11602  QTZTZ Assassination Classroom Men's canvas sho...     22.0   \n11166  11603  New Balance Women's Rise V1 Cushioning Running...   124.23   \n11167  11604                viking Jolly Winter Rain Boot Child   31.095   \n\n                             brand        asin outer_material inner_material  \\\n0             Visit the Geox Store  B08BLP231K      Synthetic      Synthetic   \n1                             Fila  B08N587YZ9         fabric            NaN   \n2          Visit the Merrell Store  B07KMB98CG      Synthetic        Manmade   \n3                         Desigual  B08CN3S1ZK      Polyester      Synthetic   \n4                        Aquatalia  B07KJX15DV            NaN            NaN   \n...                            ...         ...            ...            ...   \n11163          Visit the V12 Store  B00E9SKPE0            NaN            NaN   \n11164                       Mezlan  B001VNCTD6            NaN            NaN   \n11165                        QTZTZ  B09B9Q5CRM            NaN            NaN   \n11166  Visit the New Balance Store  B07BL2S751         Canvas            NaN   \n11167       Visit the Viking Store  B07TD54MBQ         Rubber        Manmade   \n\n            sole  closure    heel_height heel_type shoe_width  \n0         Rubber    Strap  2 centimetres      Flat     Medium  \n1         Rubber  Lace-Up            NaN   No Heel     medium  \n2      Synthetic  Lace-Up            NaN       NaN     Medium  \n3         Rubber  Lace-Up            NaN      Flat     Medium  \n4         Rubber  Pull On            NaN       NaN     Medium  \n...          ...      ...            ...       ...        ...  \n11163        NaN      NaN            NaN       NaN        NaN  \n11164        NaN  Lace-Up            NaN       NaN     Medium  \n11165        NaN      NaN            NaN       NaN        NaN  \n11166     Rubber   Buckle            NaN  low-heel     Medium  \n11167     Rubber  Slip-On            NaN       NaN       Weit  \n\n[11168 rows x 12 columns]",
      "text/html": "<div>\n<style scoped>\n    .dataframe tbody tr th:only-of-type {\n        vertical-align: middle;\n    }\n\n    .dataframe tbody tr th {\n        vertical-align: top;\n    }\n\n    .dataframe thead th {\n        text-align: right;\n    }\n</style>\n<table border=\"1\" class=\"dataframe\">\n  <thead>\n    <tr style=\"text-align: right;\">\n      <th></th>\n      <th>index</th>\n      <th>title</th>\n      <th>price</th>\n      <th>brand</th>\n      <th>asin</th>\n      <th>outer_material</th>\n      <th>inner_material</th>\n      <th>sole</th>\n      <th>closure</th>\n      <th>heel_height</th>\n      <th>heel_type</th>\n      <th>shoe_width</th>\n    </tr>\n  </thead>\n  <tbody>\n    <tr>\n      <th>0</th>\n      <td>0</td>\n      <td>Geox Jr Sandal Strada B Fisherman, Brown Red, ...</td>\n      <td>50.0</td>\n      <td>Visit the Geox Store</td>\n      <td>B08BLP231K</td>\n      <td>Synthetic</td>\n      <td>Synthetic</td>\n      <td>Rubber</td>\n      <td>Strap</td>\n      <td>2 centimetres</td>\n      <td>Flat</td>\n      <td>Medium</td>\n    </tr>\n    <tr>\n      <th>1</th>\n      <td>1</td>\n      <td>Fila Women's Oakmont Tr Sneaker</td>\n      <td>142.26</td>\n      <td>Fila</td>\n      <td>B08N587YZ9</td>\n      <td>fabric</td>\n      <td>NaN</td>\n      <td>Rubber</td>\n      <td>Lace-Up</td>\n      <td>NaN</td>\n      <td>No Heel</td>\n      <td>medium</td>\n    </tr>\n    <tr>\n      <th>2</th>\n      <td>3</td>\n      <td>Merrell Women'S Bare Access Xtr Trail Running ...</td>\n      <td>124.72</td>\n      <td>Visit the Merrell Store</td>\n      <td>B07KMB98CG</td>\n      <td>Synthetic</td>\n      <td>Manmade</td>\n      <td>Synthetic</td>\n      <td>Lace-Up</td>\n      <td>NaN</td>\n      <td>NaN</td>\n      <td>Medium</td>\n    </tr>\n    <tr>\n      <th>3</th>\n      <td>4</td>\n      <td>Desigual Women's Shoes_Runner_cmofl Sneakers W...</td>\n      <td>60.03</td>\n      <td>Desigual</td>\n      <td>B08CN3S1ZK</td>\n      <td>Polyester</td>\n      <td>Synthetic</td>\n      <td>Rubber</td>\n      <td>Lace-Up</td>\n      <td>NaN</td>\n      <td>Flat</td>\n      <td>Medium</td>\n    </tr>\n    <tr>\n      <th>4</th>\n      <td>5</td>\n      <td>Aquatalia Men's Adamo Dress Calf Penny Loafer</td>\n      <td>181.835</td>\n      <td>Aquatalia</td>\n      <td>B07KJX15DV</td>\n      <td>NaN</td>\n      <td>NaN</td>\n      <td>Rubber</td>\n      <td>Pull On</td>\n      <td>NaN</td>\n      <td>NaN</td>\n      <td>Medium</td>\n    </tr>\n    <tr>\n      <th>...</th>\n      <td>...</td>\n      <td>...</td>\n      <td>...</td>\n      <td>...</td>\n      <td>...</td>\n      <td>...</td>\n      <td>...</td>\n      <td>...</td>\n      <td>...</td>\n      <td>...</td>\n      <td>...</td>\n      <td>...</td>\n    </tr>\n    <tr>\n      <th>11163</th>\n      <td>11600</td>\n      <td>safety footwear v6471 elk grained leather boot...</td>\n      <td>26.16</td>\n      <td>Visit the V12 Store</td>\n      <td>B00E9SKPE0</td>\n      <td>NaN</td>\n      <td>NaN</td>\n      <td>NaN</td>\n      <td>NaN</td>\n      <td>NaN</td>\n      <td>NaN</td>\n      <td>NaN</td>\n    </tr>\n    <tr>\n      <th>11164</th>\n      <td>11601</td>\n      <td>2711Mezlan Men's Verdi Oxford,Tan,11.5 M</td>\n      <td>188.86</td>\n      <td>Mezlan</td>\n      <td>B001VNCTD6</td>\n      <td>NaN</td>\n      <td>NaN</td>\n      <td>NaN</td>\n      <td>Lace-Up</td>\n      <td>NaN</td>\n      <td>NaN</td>\n      <td>Medium</td>\n    </tr>\n    <tr>\n      <th>11165</th>\n      <td>11602</td>\n      <td>QTZTZ Assassination Classroom Men's canvas sho...</td>\n      <td>22.0</td>\n      <td>QTZTZ</td>\n      <td>B09B9Q5CRM</td>\n      <td>NaN</td>\n      <td>NaN</td>\n      <td>NaN</td>\n      <td>NaN</td>\n      <td>NaN</td>\n      <td>NaN</td>\n      <td>NaN</td>\n    </tr>\n    <tr>\n      <th>11166</th>\n      <td>11603</td>\n      <td>New Balance Women's Rise V1 Cushioning Running...</td>\n      <td>124.23</td>\n      <td>Visit the New Balance Store</td>\n      <td>B07BL2S751</td>\n      <td>Canvas</td>\n      <td>NaN</td>\n      <td>Rubber</td>\n      <td>Buckle</td>\n      <td>NaN</td>\n      <td>low-heel</td>\n      <td>Medium</td>\n    </tr>\n    <tr>\n      <th>11167</th>\n      <td>11604</td>\n      <td>viking Jolly Winter Rain Boot Child</td>\n      <td>31.095</td>\n      <td>Visit the Viking Store</td>\n      <td>B07TD54MBQ</td>\n      <td>Rubber</td>\n      <td>Manmade</td>\n      <td>Rubber</td>\n      <td>Slip-On</td>\n      <td>NaN</td>\n      <td>NaN</td>\n      <td>Weit</td>\n    </tr>\n  </tbody>\n</table>\n<p>11168 rows × 12 columns</p>\n</div>"
     },
     "execution_count": 17,
     "metadata": {},
     "output_type": "execute_result"
    }
   ],
   "source": [
    "import re\n",
    "\n",
    "\n",
    "def reformat_prices(prices):\n",
    "    find_numbers = lambda string: re.findall(\"\\d+\\.\\d+\", string)\n",
    "    prices = prices.apply(find_numbers)\n",
    "    for index in range(prices.shape[0]):\n",
    "        price = prices.get(index)\n",
    "        if price is None:\n",
    "            prices[index] = 0\n",
    "        elif len(price) > 1:\n",
    "            prices[index] = (float(price[0]) + float(price[1])) / 2\n",
    "        else:\n",
    "            prices[index] = float(price[0])\n",
    "    return prices\n",
    "\n",
    "\n",
    "raw_shoes['price'] = reformat_prices(raw_shoes['price'])\n",
    "raw_shoes = raw_shoes.iloc[:11168, :]\n",
    "raw_shoes"
   ],
   "metadata": {
    "collapsed": false,
    "pycharm": {
     "name": "#%%\n"
    }
   }
  },
  {
   "cell_type": "code",
   "execution_count": 18,
   "outputs": [],
   "source": [
    "raw_shoes.to_csv('assets/csv/preprocessed_shoes.csv', index=False)"
   ],
   "metadata": {
    "collapsed": false,
    "pycharm": {
     "name": "#%%\n"
    }
   }
  },
  {
   "cell_type": "code",
   "execution_count": 18,
   "outputs": [
    {
     "data": {
      "text/plain": "(52395, 4)"
     },
     "execution_count": 18,
     "metadata": {},
     "output_type": "execute_result"
    }
   ],
   "source": [
    "raw_interactions.drop(raw_interactions[raw_interactions['value'] == False].index, inplace=True)\n",
    "raw_interactions.shape"
   ],
   "metadata": {
    "collapsed": false,
    "pycharm": {
     "name": "#%%\n"
    }
   }
  },
  {
   "cell_type": "code",
   "execution_count": 19,
   "outputs": [],
   "source": [
    "raw_interactions.to_csv('assets/csv/preprocessed_interactions.csv', index=False)"
   ],
   "metadata": {
    "collapsed": false,
    "pycharm": {
     "name": "#%%\n"
    }
   }
  },
  {
   "cell_type": "code",
   "execution_count": null,
   "outputs": [],
   "source": [],
   "metadata": {
    "collapsed": false,
    "pycharm": {
     "name": "#%%\n"
    }
   }
  }
 ],
 "metadata": {
  "kernelspec": {
   "display_name": "Python 3",
   "language": "python",
   "name": "python3"
  },
  "language_info": {
   "codemirror_mode": {
    "name": "ipython",
    "version": 2
   },
   "file_extension": ".py",
   "mimetype": "text/x-python",
   "name": "python",
   "nbconvert_exporter": "python",
   "pygments_lexer": "ipython2",
   "version": "2.7.6"
  }
 },
 "nbformat": 4,
 "nbformat_minor": 0
}