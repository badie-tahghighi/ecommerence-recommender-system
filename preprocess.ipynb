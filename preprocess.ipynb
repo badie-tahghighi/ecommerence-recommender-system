{
 "cells": [
  {
   "cell_type": "code",
   "execution_count": 1,
   "metadata": {
    "collapsed": true,
    "pycharm": {
     "name": "#%%\n"
    }
   },
   "outputs": [],
   "source": [
    "import pandas as pd"
   ]
  },
  {
   "cell_type": "code",
   "execution_count": 17,
   "outputs": [],
   "source": [
    "raw_interactions = pd.read_csv('assets/csv/interactions_dataset.csv')\n",
    "raw_shoes = pd.read_csv('assets/csv/shoes_dataset.csv')\n",
    "raw_users = pd.read_csv('assets/csv/users_dataset.csv')"
   ],
   "metadata": {
    "collapsed": false,
    "pycharm": {
     "name": "#%%\n"
    }
   }
  },
  {
   "cell_type": "code",
   "execution_count": 3,
   "outputs": [],
   "source": [
    "raw_shoes = raw_shoes.dropna(subset=['price', 'title'])"
   ],
   "metadata": {
    "collapsed": false,
    "pycharm": {
     "name": "#%%\n"
    }
   }
  },
  {
   "cell_type": "code",
   "execution_count": 4,
   "outputs": [
    {
     "data": {
      "text/plain": "0                   £50.00\n1         £49.57 - £234.95\n3         £67.00 - £182.44\n4          £38.96 - £81.10\n5        £161.63 - £202.04\n               ...        \n11600      £22.33 - £29.99\n11601              £188.86\n11602               £22.00\n11603              £124.23\n11604      £18.32 - £43.87\nName: price, Length: 11168, dtype: object"
     },
     "execution_count": 4,
     "metadata": {},
     "output_type": "execute_result"
    }
   ],
   "source": [
    "raw_shoes['price']"
   ],
   "metadata": {
    "collapsed": false,
    "pycharm": {
     "name": "#%%\n"
    }
   }
  },
  {
   "cell_type": "code",
   "execution_count": 5,
   "outputs": [
    {
     "data": {
      "text/plain": "0                  50.0\n1                142.26\n3                 60.03\n4               181.835\n5                 52.82\n              ...      \n11600    [22.33, 29.99]\n11601          [188.86]\n11602           [22.00]\n11603          [124.23]\n11604    [18.32, 43.87]\nName: price, Length: 11168, dtype: object"
     },
     "execution_count": 5,
     "metadata": {},
     "output_type": "execute_result"
    }
   ],
   "source": [
    "import re\n",
    "\n",
    "\n",
    "def reformat_prices(prices):\n",
    "    find_numbers = lambda string: re.findall(\"\\d+\\.\\d+\", string)\n",
    "    prices = prices.apply(find_numbers)\n",
    "    index = 0\n",
    "    for price in prices:\n",
    "        if len(price) > 1:\n",
    "            prices[index] = (float(price[0]) + float(price[1])) / 2\n",
    "        else:\n",
    "            prices[index] = float(price[0])\n",
    "        index = index + 1\n",
    "    return prices\n",
    "\n",
    "\n",
    "raw_shoes['price'] = reformat_prices(raw_shoes['price'])\n",
    "raw_shoes['price']"
   ],
   "metadata": {
    "collapsed": false,
    "pycharm": {
     "name": "#%%\n"
    }
   }
  },
  {
   "cell_type": "code",
   "execution_count": 6,
   "outputs": [],
   "source": [
    "raw_shoes.to_csv('assets/csv/preprocessed_shoes.csv', index=False)"
   ],
   "metadata": {
    "collapsed": false,
    "pycharm": {
     "name": "#%%\n"
    }
   }
  },
  {
   "cell_type": "code",
   "execution_count": 18,
   "outputs": [
    {
     "data": {
      "text/plain": "(52395, 4)"
     },
     "execution_count": 18,
     "metadata": {},
     "output_type": "execute_result"
    }
   ],
   "source": [
    "raw_interactions.drop(raw_interactions[raw_interactions['value'] == False].index, inplace=True)\n",
    "raw_interactions.shape"
   ],
   "metadata": {
    "collapsed": false,
    "pycharm": {
     "name": "#%%\n"
    }
   }
  },
  {
   "cell_type": "code",
   "execution_count": 19,
   "outputs": [],
   "source": [
    "raw_interactions.to_csv('assets/csv/preprocessed_interactions.csv', index=False)"
   ],
   "metadata": {
    "collapsed": false,
    "pycharm": {
     "name": "#%%\n"
    }
   }
  },
  {
   "cell_type": "code",
   "execution_count": null,
   "outputs": [],
   "source": [],
   "metadata": {
    "collapsed": false,
    "pycharm": {
     "name": "#%%\n"
    }
   }
  }
 ],
 "metadata": {
  "kernelspec": {
   "display_name": "Python 3",
   "language": "python",
   "name": "python3"
  },
  "language_info": {
   "codemirror_mode": {
    "name": "ipython",
    "version": 2
   },
   "file_extension": ".py",
   "mimetype": "text/x-python",
   "name": "python",
   "nbconvert_exporter": "python",
   "pygments_lexer": "ipython2",
   "version": "2.7.6"
  }
 },
 "nbformat": 4,
 "nbformat_minor": 0
}