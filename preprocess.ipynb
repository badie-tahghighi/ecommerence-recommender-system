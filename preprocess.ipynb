{
 "cells": [
  {
   "cell_type": "code",
   "execution_count": 1,
   "metadata": {
    "collapsed": true,
    "pycharm": {
     "name": "#%%\n"
    }
   },
   "outputs": [],
   "source": [
    "import pandas as pd"
   ]
  },
  {
   "cell_type": "code",
   "execution_count": 2,
   "outputs": [],
   "source": [
    "raw_interactions = pd.read_csv('assets/csv/interactions_dataset.csv')\n",
    "raw_shoes = pd.read_csv('assets/csv/shoes_dataset.csv')\n",
    "raw_users = pd.read_csv('assets/csv/users_dataset.csv')"
   ],
   "metadata": {
    "collapsed": false,
    "pycharm": {
     "name": "#%%\n"
    }
   }
  },
  {
   "cell_type": "code",
   "execution_count": 3,
   "outputs": [
    {
     "data": {
      "text/plain": "       index                                              title  \\\n0          0  Geox Jr Sandal Strada B Fisherman, Brown Red, ...   \n1          1                    Fila Women's Oakmont Tr Sneaker   \n2          3  Merrell Women'S Bare Access Xtr Trail Running ...   \n3          4  Desigual Women's Shoes_Runner_cmofl Sneakers W...   \n4          5      Aquatalia Men's Adamo Dress Calf Penny Loafer   \n...      ...                                                ...   \n11163  11600  safety footwear v6471 elk grained leather boot...   \n11164  11601           2711Mezlan Men's Verdi Oxford,Tan,11.5 M   \n11165  11602  QTZTZ Assassination Classroom Men's canvas sho...   \n11166  11603  New Balance Women's Rise V1 Cushioning Running...   \n11167  11604                viking Jolly Winter Rain Boot Child   \n\n                   price                        brand        asin  \\\n0                 £50.00         Visit the Geox Store  B08BLP231K   \n1       £49.57 - £234.95                         Fila  B08N587YZ9   \n2       £67.00 - £182.44      Visit the Merrell Store  B07KMB98CG   \n3        £38.96 - £81.10                     Desigual  B08CN3S1ZK   \n4      £161.63 - £202.04                    Aquatalia  B07KJX15DV   \n...                  ...                          ...         ...   \n11163    £22.33 - £29.99          Visit the V12 Store  B00E9SKPE0   \n11164            £188.86                       Mezlan  B001VNCTD6   \n11165             £22.00                        QTZTZ  B09B9Q5CRM   \n11166            £124.23  Visit the New Balance Store  B07BL2S751   \n11167    £18.32 - £43.87       Visit the Viking Store  B07TD54MBQ   \n\n      outer_material inner_material       sole  closure    heel_height  \\\n0          Synthetic      Synthetic     Rubber    Strap  2 centimetres   \n1             fabric            NaN     Rubber  Lace-Up            NaN   \n2          Synthetic        Manmade  Synthetic  Lace-Up            NaN   \n3          Polyester      Synthetic     Rubber  Lace-Up            NaN   \n4                NaN            NaN     Rubber  Pull On            NaN   \n...              ...            ...        ...      ...            ...   \n11163            NaN            NaN        NaN      NaN            NaN   \n11164            NaN            NaN        NaN  Lace-Up            NaN   \n11165            NaN            NaN        NaN      NaN            NaN   \n11166         Canvas            NaN     Rubber   Buckle            NaN   \n11167         Rubber        Manmade     Rubber  Slip-On            NaN   \n\n      heel_type shoe_width  \n0          Flat     Medium  \n1       No Heel     medium  \n2           NaN     Medium  \n3          Flat     Medium  \n4           NaN     Medium  \n...         ...        ...  \n11163       NaN        NaN  \n11164       NaN     Medium  \n11165       NaN        NaN  \n11166  low-heel     Medium  \n11167       NaN       Weit  \n\n[11168 rows x 12 columns]",
      "text/html": "<div>\n<style scoped>\n    .dataframe tbody tr th:only-of-type {\n        vertical-align: middle;\n    }\n\n    .dataframe tbody tr th {\n        vertical-align: top;\n    }\n\n    .dataframe thead th {\n        text-align: right;\n    }\n</style>\n<table border=\"1\" class=\"dataframe\">\n  <thead>\n    <tr style=\"text-align: right;\">\n      <th></th>\n      <th>index</th>\n      <th>title</th>\n      <th>price</th>\n      <th>brand</th>\n      <th>asin</th>\n      <th>outer_material</th>\n      <th>inner_material</th>\n      <th>sole</th>\n      <th>closure</th>\n      <th>heel_height</th>\n      <th>heel_type</th>\n      <th>shoe_width</th>\n    </tr>\n  </thead>\n  <tbody>\n    <tr>\n      <th>0</th>\n      <td>0</td>\n      <td>Geox Jr Sandal Strada B Fisherman, Brown Red, ...</td>\n      <td>£50.00</td>\n      <td>Visit the Geox Store</td>\n      <td>B08BLP231K</td>\n      <td>Synthetic</td>\n      <td>Synthetic</td>\n      <td>Rubber</td>\n      <td>Strap</td>\n      <td>2 centimetres</td>\n      <td>Flat</td>\n      <td>Medium</td>\n    </tr>\n    <tr>\n      <th>1</th>\n      <td>1</td>\n      <td>Fila Women's Oakmont Tr Sneaker</td>\n      <td>£49.57 - £234.95</td>\n      <td>Fila</td>\n      <td>B08N587YZ9</td>\n      <td>fabric</td>\n      <td>NaN</td>\n      <td>Rubber</td>\n      <td>Lace-Up</td>\n      <td>NaN</td>\n      <td>No Heel</td>\n      <td>medium</td>\n    </tr>\n    <tr>\n      <th>2</th>\n      <td>3</td>\n      <td>Merrell Women'S Bare Access Xtr Trail Running ...</td>\n      <td>£67.00 - £182.44</td>\n      <td>Visit the Merrell Store</td>\n      <td>B07KMB98CG</td>\n      <td>Synthetic</td>\n      <td>Manmade</td>\n      <td>Synthetic</td>\n      <td>Lace-Up</td>\n      <td>NaN</td>\n      <td>NaN</td>\n      <td>Medium</td>\n    </tr>\n    <tr>\n      <th>3</th>\n      <td>4</td>\n      <td>Desigual Women's Shoes_Runner_cmofl Sneakers W...</td>\n      <td>£38.96 - £81.10</td>\n      <td>Desigual</td>\n      <td>B08CN3S1ZK</td>\n      <td>Polyester</td>\n      <td>Synthetic</td>\n      <td>Rubber</td>\n      <td>Lace-Up</td>\n      <td>NaN</td>\n      <td>Flat</td>\n      <td>Medium</td>\n    </tr>\n    <tr>\n      <th>4</th>\n      <td>5</td>\n      <td>Aquatalia Men's Adamo Dress Calf Penny Loafer</td>\n      <td>£161.63 - £202.04</td>\n      <td>Aquatalia</td>\n      <td>B07KJX15DV</td>\n      <td>NaN</td>\n      <td>NaN</td>\n      <td>Rubber</td>\n      <td>Pull On</td>\n      <td>NaN</td>\n      <td>NaN</td>\n      <td>Medium</td>\n    </tr>\n    <tr>\n      <th>...</th>\n      <td>...</td>\n      <td>...</td>\n      <td>...</td>\n      <td>...</td>\n      <td>...</td>\n      <td>...</td>\n      <td>...</td>\n      <td>...</td>\n      <td>...</td>\n      <td>...</td>\n      <td>...</td>\n      <td>...</td>\n    </tr>\n    <tr>\n      <th>11163</th>\n      <td>11600</td>\n      <td>safety footwear v6471 elk grained leather boot...</td>\n      <td>£22.33 - £29.99</td>\n      <td>Visit the V12 Store</td>\n      <td>B00E9SKPE0</td>\n      <td>NaN</td>\n      <td>NaN</td>\n      <td>NaN</td>\n      <td>NaN</td>\n      <td>NaN</td>\n      <td>NaN</td>\n      <td>NaN</td>\n    </tr>\n    <tr>\n      <th>11164</th>\n      <td>11601</td>\n      <td>2711Mezlan Men's Verdi Oxford,Tan,11.5 M</td>\n      <td>£188.86</td>\n      <td>Mezlan</td>\n      <td>B001VNCTD6</td>\n      <td>NaN</td>\n      <td>NaN</td>\n      <td>NaN</td>\n      <td>Lace-Up</td>\n      <td>NaN</td>\n      <td>NaN</td>\n      <td>Medium</td>\n    </tr>\n    <tr>\n      <th>11165</th>\n      <td>11602</td>\n      <td>QTZTZ Assassination Classroom Men's canvas sho...</td>\n      <td>£22.00</td>\n      <td>QTZTZ</td>\n      <td>B09B9Q5CRM</td>\n      <td>NaN</td>\n      <td>NaN</td>\n      <td>NaN</td>\n      <td>NaN</td>\n      <td>NaN</td>\n      <td>NaN</td>\n      <td>NaN</td>\n    </tr>\n    <tr>\n      <th>11166</th>\n      <td>11603</td>\n      <td>New Balance Women's Rise V1 Cushioning Running...</td>\n      <td>£124.23</td>\n      <td>Visit the New Balance Store</td>\n      <td>B07BL2S751</td>\n      <td>Canvas</td>\n      <td>NaN</td>\n      <td>Rubber</td>\n      <td>Buckle</td>\n      <td>NaN</td>\n      <td>low-heel</td>\n      <td>Medium</td>\n    </tr>\n    <tr>\n      <th>11167</th>\n      <td>11604</td>\n      <td>viking Jolly Winter Rain Boot Child</td>\n      <td>£18.32 - £43.87</td>\n      <td>Visit the Viking Store</td>\n      <td>B07TD54MBQ</td>\n      <td>Rubber</td>\n      <td>Manmade</td>\n      <td>Rubber</td>\n      <td>Slip-On</td>\n      <td>NaN</td>\n      <td>NaN</td>\n      <td>Weit</td>\n    </tr>\n  </tbody>\n</table>\n<p>11168 rows × 12 columns</p>\n</div>"
     },
     "execution_count": 3,
     "metadata": {},
     "output_type": "execute_result"
    }
   ],
   "source": [
    "raw_shoes.dropna(subset=['price', 'title'], inplace=True)\n",
    "raw_shoes.reset_index(inplace=True)\n",
    "raw_shoes"
   ],
   "metadata": {
    "collapsed": false,
    "pycharm": {
     "name": "#%%\n"
    }
   }
  },
  {
   "cell_type": "code",
   "execution_count": 4,
   "outputs": [
    {
     "data": {
      "text/plain": "index              0.000000\ntitle              0.000000\nprice              0.000000\nasin               0.000000\nbrand              0.017908\nclosure            7.190186\nshoe_width         8.998926\nsole              14.514685\nouter_material    25.617837\nheel_type         46.042264\ninner_material    49.534384\nheel_height       75.000000\ndtype: float64"
     },
     "execution_count": 4,
     "metadata": {},
     "output_type": "execute_result"
    }
   ],
   "source": [
    "null_values = raw_shoes.isnull().mean().sort_values() * 100\n",
    "null_values"
   ],
   "metadata": {
    "collapsed": false,
    "pycharm": {
     "name": "#%%\n"
    }
   }
  },
  {
   "cell_type": "code",
   "execution_count": 5,
   "outputs": [
    {
     "data": {
      "text/plain": "       index                                              title  \\\n0          0  Geox Jr Sandal Strada B Fisherman, Brown Red, ...   \n1          1                    Fila Women's Oakmont Tr Sneaker   \n2          3  Merrell Women'S Bare Access Xtr Trail Running ...   \n3          4  Desigual Women's Shoes_Runner_cmofl Sneakers W...   \n4          5      Aquatalia Men's Adamo Dress Calf Penny Loafer   \n...      ...                                                ...   \n11161  11597  Fashion Breathable Stretch Knitted Women Sport...   \n11162  11598  My Neighbor TotoroCanvas Sneaker Lace Up Sneak...   \n11164  11601           2711Mezlan Men's Verdi Oxford,Tan,11.5 M   \n11166  11603  New Balance Women's Rise V1 Cushioning Running...   \n11167  11604                viking Jolly Winter Rain Boot Child   \n\n                   price                        brand        asin  \\\n0                 £50.00         Visit the Geox Store  B08BLP231K   \n1       £49.57 - £234.95                         Fila  B08N587YZ9   \n2       £67.00 - £182.44      Visit the Merrell Store  B07KMB98CG   \n3        £38.96 - £81.10                     Desigual  B08CN3S1ZK   \n4      £161.63 - £202.04                    Aquatalia  B07KJX15DV   \n...                  ...                          ...         ...   \n11161             £33.69                       Jundao  B09BRFV5QL   \n11162             £34.82                        M.YAN  B08Y5XLSW4   \n11164            £188.86                       Mezlan  B001VNCTD6   \n11166            £124.23  Visit the New Balance Store  B07BL2S751   \n11167    £18.32 - £43.87       Visit the Viking Store  B07TD54MBQ   \n\n      outer_material inner_material       sole  closure    heel_height  \\\n0          Synthetic      Synthetic     Rubber    Strap  2 centimetres   \n1             fabric            NaN     Rubber  Lace-Up            NaN   \n2          Synthetic        Manmade  Synthetic  Lace-Up            NaN   \n3          Polyester      Synthetic     Rubber  Lace-Up            NaN   \n4                NaN            NaN     Rubber  Pull On            NaN   \n...              ...            ...        ...      ...            ...   \n11161        Textile           Mesh     Rubber  Lace-Up  3 centimetres   \n11162         Canvas            NaN        NaN  Lace-Up            NaN   \n11164            NaN            NaN        NaN  Lace-Up            NaN   \n11166         Canvas            NaN     Rubber   Buckle            NaN   \n11167         Rubber        Manmade     Rubber  Slip-On            NaN   \n\n      heel_type shoe_width  \n0          Flat     Medium  \n1       No Heel     medium  \n2           NaN     Medium  \n3          Flat     Medium  \n4           NaN     Medium  \n...         ...        ...  \n11161      Flat     Normal  \n11162       NaN     Medium  \n11164       NaN     Medium  \n11166  low-heel     Medium  \n11167       NaN       Weit  \n\n[10417 rows x 12 columns]",
      "text/html": "<div>\n<style scoped>\n    .dataframe tbody tr th:only-of-type {\n        vertical-align: middle;\n    }\n\n    .dataframe tbody tr th {\n        vertical-align: top;\n    }\n\n    .dataframe thead th {\n        text-align: right;\n    }\n</style>\n<table border=\"1\" class=\"dataframe\">\n  <thead>\n    <tr style=\"text-align: right;\">\n      <th></th>\n      <th>index</th>\n      <th>title</th>\n      <th>price</th>\n      <th>brand</th>\n      <th>asin</th>\n      <th>outer_material</th>\n      <th>inner_material</th>\n      <th>sole</th>\n      <th>closure</th>\n      <th>heel_height</th>\n      <th>heel_type</th>\n      <th>shoe_width</th>\n    </tr>\n  </thead>\n  <tbody>\n    <tr>\n      <th>0</th>\n      <td>0</td>\n      <td>Geox Jr Sandal Strada B Fisherman, Brown Red, ...</td>\n      <td>£50.00</td>\n      <td>Visit the Geox Store</td>\n      <td>B08BLP231K</td>\n      <td>Synthetic</td>\n      <td>Synthetic</td>\n      <td>Rubber</td>\n      <td>Strap</td>\n      <td>2 centimetres</td>\n      <td>Flat</td>\n      <td>Medium</td>\n    </tr>\n    <tr>\n      <th>1</th>\n      <td>1</td>\n      <td>Fila Women's Oakmont Tr Sneaker</td>\n      <td>£49.57 - £234.95</td>\n      <td>Fila</td>\n      <td>B08N587YZ9</td>\n      <td>fabric</td>\n      <td>NaN</td>\n      <td>Rubber</td>\n      <td>Lace-Up</td>\n      <td>NaN</td>\n      <td>No Heel</td>\n      <td>medium</td>\n    </tr>\n    <tr>\n      <th>2</th>\n      <td>3</td>\n      <td>Merrell Women'S Bare Access Xtr Trail Running ...</td>\n      <td>£67.00 - £182.44</td>\n      <td>Visit the Merrell Store</td>\n      <td>B07KMB98CG</td>\n      <td>Synthetic</td>\n      <td>Manmade</td>\n      <td>Synthetic</td>\n      <td>Lace-Up</td>\n      <td>NaN</td>\n      <td>NaN</td>\n      <td>Medium</td>\n    </tr>\n    <tr>\n      <th>3</th>\n      <td>4</td>\n      <td>Desigual Women's Shoes_Runner_cmofl Sneakers W...</td>\n      <td>£38.96 - £81.10</td>\n      <td>Desigual</td>\n      <td>B08CN3S1ZK</td>\n      <td>Polyester</td>\n      <td>Synthetic</td>\n      <td>Rubber</td>\n      <td>Lace-Up</td>\n      <td>NaN</td>\n      <td>Flat</td>\n      <td>Medium</td>\n    </tr>\n    <tr>\n      <th>4</th>\n      <td>5</td>\n      <td>Aquatalia Men's Adamo Dress Calf Penny Loafer</td>\n      <td>£161.63 - £202.04</td>\n      <td>Aquatalia</td>\n      <td>B07KJX15DV</td>\n      <td>NaN</td>\n      <td>NaN</td>\n      <td>Rubber</td>\n      <td>Pull On</td>\n      <td>NaN</td>\n      <td>NaN</td>\n      <td>Medium</td>\n    </tr>\n    <tr>\n      <th>...</th>\n      <td>...</td>\n      <td>...</td>\n      <td>...</td>\n      <td>...</td>\n      <td>...</td>\n      <td>...</td>\n      <td>...</td>\n      <td>...</td>\n      <td>...</td>\n      <td>...</td>\n      <td>...</td>\n      <td>...</td>\n    </tr>\n    <tr>\n      <th>11161</th>\n      <td>11597</td>\n      <td>Fashion Breathable Stretch Knitted Women Sport...</td>\n      <td>£33.69</td>\n      <td>Jundao</td>\n      <td>B09BRFV5QL</td>\n      <td>Textile</td>\n      <td>Mesh</td>\n      <td>Rubber</td>\n      <td>Lace-Up</td>\n      <td>3 centimetres</td>\n      <td>Flat</td>\n      <td>Normal</td>\n    </tr>\n    <tr>\n      <th>11162</th>\n      <td>11598</td>\n      <td>My Neighbor TotoroCanvas Sneaker Lace Up Sneak...</td>\n      <td>£34.82</td>\n      <td>M.YAN</td>\n      <td>B08Y5XLSW4</td>\n      <td>Canvas</td>\n      <td>NaN</td>\n      <td>NaN</td>\n      <td>Lace-Up</td>\n      <td>NaN</td>\n      <td>NaN</td>\n      <td>Medium</td>\n    </tr>\n    <tr>\n      <th>11164</th>\n      <td>11601</td>\n      <td>2711Mezlan Men's Verdi Oxford,Tan,11.5 M</td>\n      <td>£188.86</td>\n      <td>Mezlan</td>\n      <td>B001VNCTD6</td>\n      <td>NaN</td>\n      <td>NaN</td>\n      <td>NaN</td>\n      <td>Lace-Up</td>\n      <td>NaN</td>\n      <td>NaN</td>\n      <td>Medium</td>\n    </tr>\n    <tr>\n      <th>11166</th>\n      <td>11603</td>\n      <td>New Balance Women's Rise V1 Cushioning Running...</td>\n      <td>£124.23</td>\n      <td>Visit the New Balance Store</td>\n      <td>B07BL2S751</td>\n      <td>Canvas</td>\n      <td>NaN</td>\n      <td>Rubber</td>\n      <td>Buckle</td>\n      <td>NaN</td>\n      <td>low-heel</td>\n      <td>Medium</td>\n    </tr>\n    <tr>\n      <th>11167</th>\n      <td>11604</td>\n      <td>viking Jolly Winter Rain Boot Child</td>\n      <td>£18.32 - £43.87</td>\n      <td>Visit the Viking Store</td>\n      <td>B07TD54MBQ</td>\n      <td>Rubber</td>\n      <td>Manmade</td>\n      <td>Rubber</td>\n      <td>Slip-On</td>\n      <td>NaN</td>\n      <td>NaN</td>\n      <td>Weit</td>\n    </tr>\n  </tbody>\n</table>\n<p>10417 rows × 12 columns</p>\n</div>"
     },
     "execution_count": 5,
     "metadata": {},
     "output_type": "execute_result"
    }
   ],
   "source": [
    "raw_shoes.dropna(axis=0, thresh=7, inplace=True)\n",
    "raw_shoes"
   ],
   "metadata": {
    "collapsed": false,
    "pycharm": {
     "name": "#%%\n"
    }
   }
  },
  {
   "cell_type": "code",
   "execution_count": 6,
   "outputs": [
    {
     "data": {
      "text/plain": "medium                             7308\nnormal                              756\nm                                   404\nwide                                287\nschmal                              262\n                                   ... \nnarrow toddler_us                     1\nxx-wide womens_us                     1\nmedium metres, medium womens_us       1\naverage (d)                           1\nextra wide                            1\nName: shoe_width, Length: 159, dtype: int64"
     },
     "execution_count": 6,
     "metadata": {},
     "output_type": "execute_result"
    }
   ],
   "source": [
    "raw_shoes['heel_height'].fillna(0, inplace=True)\n",
    "raw_shoes['heel_type'].fillna('no heel', inplace=True)\n",
    "raw_shoes['shoe_width'].fillna('medium', inplace=True)\n",
    "raw_shoes['shoe_width'] = raw_shoes['shoe_width'].str.lower()\n",
    "raw_shoes['shoe_width'].value_counts()"
   ],
   "metadata": {
    "collapsed": false,
    "pycharm": {
     "name": "#%%\n"
    }
   }
  },
  {
   "cell_type": "code",
   "execution_count": 7,
   "outputs": [
    {
     "data": {
      "text/plain": "shoe_width\nmedium               8169\nnormal               1061\nwide                  381\nmedium womens_us      234\nmedium mens_us        174\nmedium youth_us        93\nwide mens_us           32\nx-wide                 29\nmedium toddler_us      20\nwide womens_us         18\nmedium unisex_eu       12\nnormal unisex_eu       11\nx-wide mens_us         11\nnormal mens_us         10\nx-wide womens_us        7\nwide youth_us           7\nnormal womens_us        7\nlarge                   6\ndtype: int64"
     },
     "execution_count": 7,
     "metadata": {},
     "output_type": "execute_result"
    }
   ],
   "source": [
    "raw_shoes['shoe_width'].replace('m', 'medium', inplace=True)\n",
    "raw_shoes['shoe_width'].replace('normale', 'normal', inplace=True)\n",
    "raw_shoes['shoe_width'].replace('regular', 'normal', inplace=True)\n",
    "raw_shoes['shoe_width'].replace('w', 'wide', inplace=True)\n",
    "raw_shoes['shoe_width'].replace('m youth_us', 'medium youth_us', inplace=True)\n",
    "raw_shoes['shoe_width'].replace('d (m)', 'medium', inplace=True)\n",
    "raw_shoes['shoe_width'].replace('m womens_us', 'medium womens_us', inplace=True)\n",
    "raw_shoes['shoe_width'].replace('narrow', 'medium', inplace=True)\n",
    "raw_shoes['shoe_width'].replace('b (m)', 'medium', inplace=True)\n",
    "raw_shoes['shoe_width'].replace('normal centimetres', 'normal', inplace=True)\n",
    "raw_shoes['shoe_width'].replace('weit', 'wide', inplace=True)\n",
    "raw_shoes['shoe_width'].replace('m mens_us', 'medium mens_us', inplace=True)\n",
    "raw_shoes['shoe_width'].replace('b', 'medium', inplace=True)\n",
    "raw_shoes['shoe_width'].replace('b(m) womens_us', 'medium womens_us', inplace=True)\n",
    "raw_shoes['shoe_width'].replace('b womens_us', 'medium womens_us', inplace=True)\n",
    "raw_shoes['shoe_width'].replace('d(m) mens_us', 'medium mens_us', inplace=True)\n",
    "raw_shoes['shoe_width'].replace('m toddler_us', 'medium toddler_us', inplace=True)\n",
    "raw_shoes['shoe_width'].replace('w mens_us', 'wide mens_us', inplace=True)\n",
    "raw_shoes['shoe_width'].replace('medium centimetres', 'medium', inplace=True)\n",
    "raw_shoes['shoe_width'].replace('w youth_us', 'wide youth_us', inplace=True)\n",
    "raw_shoes['shoe_width'].replace('narrow womens_us', 'medium womens_us', inplace=True)\n",
    "raw_shoes['shoe_width'].replace('d - wide', 'wide', inplace=True)\n",
    "raw_shoes['shoe_width'].replace('extra-weit', 'wide', inplace=True)\n",
    "raw_shoes['shoe_width'].replace(\n",
    "    'normal. atmungsaktives und leichtes design, das sich hervorragend für den ganztägigen komfort eignet. mehrere farben zur auswahl, schwarz, grau, blau, pink und mehr.',\n",
    "    'normal', inplace=True)\n",
    "raw_shoes['shoe_width'].replace('b(m)', 'medium', inplace=True)\n",
    "raw_shoes['shoe_width'].replace('d (m) mens_us', 'medium mens_us', inplace=True)\n",
    "raw_shoes['shoe_width'].replace('2e (m) wide', 'wide', inplace=True)\n",
    "raw_shoes['shoe_width'].replace('m (b)', 'medium', inplace=True)\n",
    "raw_shoes['shoe_width'].replace('w womens_us', 'wide womens_us', inplace=True)\n",
    "raw_shoes['shoe_width'].replace('n', 'normal', inplace=True)\n",
    "raw_shoes['shoe_width'].replace('medium mens_us, medium womens_us', 'medium', inplace=True)\n",
    "raw_shoes['shoe_width'].replace('d mens_us', 'medium mens_us', inplace=True)\n",
    "raw_shoes['shoe_width'].replace('d', 'normal', inplace=True)\n",
    "raw_shoes['shoe_width'].replace('moyen', 'medium', inplace=True)\n",
    "raw_shoes['shoe_width'].replace('xw mens_us', 'x-wide mens_us', inplace=True)\n",
    "raw_shoes['shoe_width'].replace('xw', 'x-wide', inplace=True)\n",
    "raw_shoes['shoe_width'].replace('schmal', 'medium', inplace=True)\n",
    "\n",
    "duplicated_values_count = pd.DataFrame(\n",
    "    raw_shoes.pivot_table(columns=['shoe_width'], aggfunc='size').sort_values(ascending=False))\n",
    "for index, row in duplicated_values_count.iterrows():\n",
    "    if row.values[0] < 4:\n",
    "        raw_shoes = raw_shoes[raw_shoes.shoe_width != row.name]\n",
    "raw_shoes.pivot_table(columns=['shoe_width'], aggfunc='size').sort_values(ascending=False)"
   ],
   "metadata": {
    "collapsed": false,
    "pycharm": {
     "name": "#%%\n"
    }
   }
  },
  {
   "cell_type": "code",
   "execution_count": 8,
   "outputs": [
    {
     "data": {
      "text/plain": "                              7573\n centimetres                  1304\n. centimetres                  508\n. inches                       401\n inches                        358\n millimetres                    69\n mm                             15\n centimeters centimetres         6\n. millimetres                    6\n.                                6\n- centimetres                    4\ncm                               4\n. centimeters centimetres        3\nFlat                             2\nLow Heel                         2\n /\" inches                       2\nNot Applicable centimetres       2\nHigh Height                      1\nmm                               1\n cm centimetres                  1\n.cm                              1\n\" inches                         1\n /\"                              1\nLight, Wear                      1\n/\"                               1\nUnder  Inch                      1\nMid-Top                          1\n Feet                            1\n.cm centimetres                  1\n cm.                             1\nlow heel                         1\n , .                             1\n\"\"\"                              1\n\"                                1\nName: heel_height, dtype: int64"
     },
     "execution_count": 8,
     "metadata": {},
     "output_type": "execute_result"
    }
   ],
   "source": [
    "remove_digits = lambda string: ''.join([i for i in string if not i.isdigit()])\n",
    "raw_shoes['heel_height'] = raw_shoes['heel_height'].astype(str)\n",
    "heel_height_units = raw_shoes['heel_height'].apply(remove_digits)\n",
    "heel_height_units.value_counts()"
   ],
   "metadata": {
    "collapsed": false,
    "pycharm": {
     "name": "#%%\n"
    }
   }
  },
  {
   "cell_type": "code",
   "execution_count": 9,
   "outputs": [
    {
     "data": {
      "text/plain": "0        2.0\n1          0\n2          0\n3          0\n4          0\n        ... \n11161    3.0\n11162      0\n11164      0\n11166      0\n11167      0\nName: heel_height, Length: 10282, dtype: object"
     },
     "execution_count": 9,
     "metadata": {},
     "output_type": "execute_result"
    }
   ],
   "source": [
    "import re\n",
    "\n",
    "centimeters = ['centimetres', '. centimetres', 'centimeters centimetres', '.', '- centimetres', 'cm', '. centimeters centimetres', 'Not Applicable centimetres' ,'High Height', 'cm centimetres', '.cm', '/\"', 'Light, Wear', '/\"', 'Mid-Top', 'Feet', '.cm centimetres', 'cm.', ', .', '\"\"\"', '\"']\n",
    "inches = ['. inches', 'inches', '/\" inches', '\" inches', 'Under  Inch']\n",
    "millimeters = ['millimetres', 'mm', '. millimetres', 'mm']\n",
    "zeros = ['Flat', 'Low Heel', 'low heel']\n",
    "find_numbers = lambda string: re.findall(\"\\d+\", string)\n",
    "for index, row in pd.DataFrame(raw_shoes['heel_height']).iterrows():\n",
    "    heel_height = row.values[0]\n",
    "    if type(heel_height) == int:\n",
    "        continue\n",
    "    unit = remove_digits(heel_height).strip()\n",
    "    height = find_numbers(heel_height)\n",
    "    if len(height) == 0:\n",
    "        raw_shoes.loc[index, 'heel_height'] = 0\n",
    "        continue\n",
    "    height = float(height[0]) if len(height) == 1 else float(height[0].join(height[1]))\n",
    "    if unit in centimeters:\n",
    "        raw_shoes.loc[index, 'heel_height'] = height * 1\n",
    "    elif unit in inches:\n",
    "        raw_shoes.loc[index, 'heel_height'] = height * 2.54\n",
    "    elif unit in millimeters:\n",
    "        raw_shoes.loc[index, 'heel_height'] = height / 100\n",
    "    else:\n",
    "        raw_shoes.loc[index, 'heel_height'] = 0\n",
    "raw_shoes.heel_height"
   ],
   "metadata": {
    "collapsed": false,
    "pycharm": {
     "name": "#%%\n"
    }
   }
  },
  {
   "cell_type": "code",
   "execution_count": 10,
   "outputs": [
    {
     "data": {
      "text/plain": "heel_type\nno heel                                                                                                                                                                                                                           5573\nflat                                                                                                                                                                                                                              2670\nlow-heel                                                                                                                                                                                                                           471\nlow                                                                                                                                                                                                                                429\nblock                                                                                                                                                                                                                              272\n                                                                                                                                                                                                                                  ... \nflat-the sole is matched with an enhanced cushioning air cushion, which has excellent cushioning performance, which can provide greater strength and comfort to the foot during exercise, and improve the exercise experience.       1\nflat,no-heel                                                                                                                                                                                                                         1\nflat, the flat, highly elastic foam sole makes walking more comfortable.                                                                                                                                                             1\nflat, comfortable to wear and easy to walk                                                                                                                                                                                           1\n【note】our slippers are a little smaller than normal, so we recommend that you order one size larger.                                                                                                                                 1\nLength: 148, dtype: int64"
     },
     "execution_count": 10,
     "metadata": {},
     "output_type": "execute_result"
    }
   ],
   "source": [
    "raw_shoes['heel_type'] = raw_shoes['heel_type'].str.lower()\n",
    "raw_shoes.pivot_table(columns=['heel_type'], aggfunc='size').sort_values(ascending=False)"
   ],
   "metadata": {
    "collapsed": false,
    "pycharm": {
     "name": "#%%\n"
    }
   }
  },
  {
   "cell_type": "code",
   "execution_count": 11,
   "outputs": [
    {
     "data": {
      "text/plain": "heel_type\nno heel            5672\nflat               2684\nlow-heel            910\nblock               272\nplatform            212\nwedge               168\nmid-heel             28\nkitten               27\nchunky               21\nstacked              20\ntechnical_sport      19\ncone                 18\nwestern              13\nstiletto             11\nlouis heel            9\nhigh-heel             8\nflare                 6\ndtype: int64"
     },
     "execution_count": 11,
     "metadata": {},
     "output_type": "execute_result"
    }
   ],
   "source": [
    "raw_shoes['heel_type'].replace('low', 'low-heel', inplace=True)\n",
    "raw_shoes['heel_type'].replace('no paragraph', 'no heel', inplace=True)\n",
    "raw_shoes['heel_type'].replace('technical_sport_shoe, flat', 'technical_sport', inplace=True)\n",
    "raw_shoes['heel_type'].replace('shoes, flat', 'flat', inplace=True)\n",
    "raw_shoes['heel_type'].replace('low-heels', 'low-heel', inplace=True)\n",
    "raw_shoes['heel_type'].replace('without heel', 'no heel', inplace=True)\n",
    "raw_shoes['heel_type'].replace('kein absatz', 'no heel', inplace=True)\n",
    "\n",
    "duplicated_values_count = pd.DataFrame(\n",
    "    raw_shoes.pivot_table(columns=['heel_type'], aggfunc='size').sort_values(ascending=False))\n",
    "for index, row in duplicated_values_count.iterrows():\n",
    "    if row.values[0] < 6:\n",
    "        raw_shoes = raw_shoes[raw_shoes.heel_type != row.name]\n",
    "raw_shoes.pivot_table(columns=['heel_type'], aggfunc='size').sort_values(ascending=False)"
   ],
   "metadata": {
    "collapsed": false,
    "pycharm": {
     "name": "#%%\n"
    }
   }
  },
  {
   "cell_type": "code",
   "execution_count": 12,
   "outputs": [
    {
     "data": {
      "text/plain": "       level_0                                              title    price  \\\n0            0  Geox Jr Sandal Strada B Fisherman, Brown Red, ...     50.0   \n1            1                    Fila Women's Oakmont Tr Sneaker   142.26   \n2            2  Merrell Women'S Bare Access Xtr Trail Running ...   124.72   \n3            3  Desigual Women's Shoes_Runner_cmofl Sneakers W...    60.03   \n4            4      Aquatalia Men's Adamo Dress Calf Penny Loafer  181.835   \n...        ...                                                ...      ...   \n10093    11161  Fashion Breathable Stretch Knitted Women Sport...    33.69   \n10094    11162  My Neighbor TotoroCanvas Sneaker Lace Up Sneak...    34.82   \n10095    11164           2711Mezlan Men's Verdi Oxford,Tan,11.5 M   188.86   \n10096    11166  New Balance Women's Rise V1 Cushioning Running...   124.23   \n10097    11167                viking Jolly Winter Rain Boot Child   31.095   \n\n                             brand        asin outer_material inner_material  \\\n0             Visit the Geox Store  B08BLP231K      Synthetic      Synthetic   \n1                             Fila  B08N587YZ9         fabric            NaN   \n2          Visit the Merrell Store  B07KMB98CG      Synthetic        Manmade   \n3                         Desigual  B08CN3S1ZK      Polyester      Synthetic   \n4                        Aquatalia  B07KJX15DV            NaN            NaN   \n...                            ...         ...            ...            ...   \n10093                       Jundao  B09BRFV5QL        Textile           Mesh   \n10094                        M.YAN  B08Y5XLSW4         Canvas            NaN   \n10095                       Mezlan  B001VNCTD6            NaN            NaN   \n10096  Visit the New Balance Store  B07BL2S751         Canvas            NaN   \n10097       Visit the Viking Store  B07TD54MBQ         Rubber        Manmade   \n\n            sole  closure heel_height heel_type shoe_width  \n0         Rubber    Strap         2.0      flat     medium  \n1         Rubber  Lace-Up           0   no heel     medium  \n2      Synthetic  Lace-Up           0   no heel     medium  \n3         Rubber  Lace-Up           0      flat     medium  \n4         Rubber  Pull On           0   no heel     medium  \n...          ...      ...         ...       ...        ...  \n10093     Rubber  Lace-Up         3.0      flat     normal  \n10094        NaN  Lace-Up           0   no heel     medium  \n10095        NaN  Lace-Up           0   no heel     medium  \n10096     Rubber   Buckle           0  low-heel     medium  \n10097     Rubber  Slip-On           0   no heel       wide  \n\n[10098 rows x 12 columns]",
      "text/html": "<div>\n<style scoped>\n    .dataframe tbody tr th:only-of-type {\n        vertical-align: middle;\n    }\n\n    .dataframe tbody tr th {\n        vertical-align: top;\n    }\n\n    .dataframe thead th {\n        text-align: right;\n    }\n</style>\n<table border=\"1\" class=\"dataframe\">\n  <thead>\n    <tr style=\"text-align: right;\">\n      <th></th>\n      <th>level_0</th>\n      <th>title</th>\n      <th>price</th>\n      <th>brand</th>\n      <th>asin</th>\n      <th>outer_material</th>\n      <th>inner_material</th>\n      <th>sole</th>\n      <th>closure</th>\n      <th>heel_height</th>\n      <th>heel_type</th>\n      <th>shoe_width</th>\n    </tr>\n  </thead>\n  <tbody>\n    <tr>\n      <th>0</th>\n      <td>0</td>\n      <td>Geox Jr Sandal Strada B Fisherman, Brown Red, ...</td>\n      <td>50.0</td>\n      <td>Visit the Geox Store</td>\n      <td>B08BLP231K</td>\n      <td>Synthetic</td>\n      <td>Synthetic</td>\n      <td>Rubber</td>\n      <td>Strap</td>\n      <td>2.0</td>\n      <td>flat</td>\n      <td>medium</td>\n    </tr>\n    <tr>\n      <th>1</th>\n      <td>1</td>\n      <td>Fila Women's Oakmont Tr Sneaker</td>\n      <td>142.26</td>\n      <td>Fila</td>\n      <td>B08N587YZ9</td>\n      <td>fabric</td>\n      <td>NaN</td>\n      <td>Rubber</td>\n      <td>Lace-Up</td>\n      <td>0</td>\n      <td>no heel</td>\n      <td>medium</td>\n    </tr>\n    <tr>\n      <th>2</th>\n      <td>2</td>\n      <td>Merrell Women'S Bare Access Xtr Trail Running ...</td>\n      <td>124.72</td>\n      <td>Visit the Merrell Store</td>\n      <td>B07KMB98CG</td>\n      <td>Synthetic</td>\n      <td>Manmade</td>\n      <td>Synthetic</td>\n      <td>Lace-Up</td>\n      <td>0</td>\n      <td>no heel</td>\n      <td>medium</td>\n    </tr>\n    <tr>\n      <th>3</th>\n      <td>3</td>\n      <td>Desigual Women's Shoes_Runner_cmofl Sneakers W...</td>\n      <td>60.03</td>\n      <td>Desigual</td>\n      <td>B08CN3S1ZK</td>\n      <td>Polyester</td>\n      <td>Synthetic</td>\n      <td>Rubber</td>\n      <td>Lace-Up</td>\n      <td>0</td>\n      <td>flat</td>\n      <td>medium</td>\n    </tr>\n    <tr>\n      <th>4</th>\n      <td>4</td>\n      <td>Aquatalia Men's Adamo Dress Calf Penny Loafer</td>\n      <td>181.835</td>\n      <td>Aquatalia</td>\n      <td>B07KJX15DV</td>\n      <td>NaN</td>\n      <td>NaN</td>\n      <td>Rubber</td>\n      <td>Pull On</td>\n      <td>0</td>\n      <td>no heel</td>\n      <td>medium</td>\n    </tr>\n    <tr>\n      <th>...</th>\n      <td>...</td>\n      <td>...</td>\n      <td>...</td>\n      <td>...</td>\n      <td>...</td>\n      <td>...</td>\n      <td>...</td>\n      <td>...</td>\n      <td>...</td>\n      <td>...</td>\n      <td>...</td>\n      <td>...</td>\n    </tr>\n    <tr>\n      <th>10093</th>\n      <td>11161</td>\n      <td>Fashion Breathable Stretch Knitted Women Sport...</td>\n      <td>33.69</td>\n      <td>Jundao</td>\n      <td>B09BRFV5QL</td>\n      <td>Textile</td>\n      <td>Mesh</td>\n      <td>Rubber</td>\n      <td>Lace-Up</td>\n      <td>3.0</td>\n      <td>flat</td>\n      <td>normal</td>\n    </tr>\n    <tr>\n      <th>10094</th>\n      <td>11162</td>\n      <td>My Neighbor TotoroCanvas Sneaker Lace Up Sneak...</td>\n      <td>34.82</td>\n      <td>M.YAN</td>\n      <td>B08Y5XLSW4</td>\n      <td>Canvas</td>\n      <td>NaN</td>\n      <td>NaN</td>\n      <td>Lace-Up</td>\n      <td>0</td>\n      <td>no heel</td>\n      <td>medium</td>\n    </tr>\n    <tr>\n      <th>10095</th>\n      <td>11164</td>\n      <td>2711Mezlan Men's Verdi Oxford,Tan,11.5 M</td>\n      <td>188.86</td>\n      <td>Mezlan</td>\n      <td>B001VNCTD6</td>\n      <td>NaN</td>\n      <td>NaN</td>\n      <td>NaN</td>\n      <td>Lace-Up</td>\n      <td>0</td>\n      <td>no heel</td>\n      <td>medium</td>\n    </tr>\n    <tr>\n      <th>10096</th>\n      <td>11166</td>\n      <td>New Balance Women's Rise V1 Cushioning Running...</td>\n      <td>124.23</td>\n      <td>Visit the New Balance Store</td>\n      <td>B07BL2S751</td>\n      <td>Canvas</td>\n      <td>NaN</td>\n      <td>Rubber</td>\n      <td>Buckle</td>\n      <td>0</td>\n      <td>low-heel</td>\n      <td>medium</td>\n    </tr>\n    <tr>\n      <th>10097</th>\n      <td>11167</td>\n      <td>viking Jolly Winter Rain Boot Child</td>\n      <td>31.095</td>\n      <td>Visit the Viking Store</td>\n      <td>B07TD54MBQ</td>\n      <td>Rubber</td>\n      <td>Manmade</td>\n      <td>Rubber</td>\n      <td>Slip-On</td>\n      <td>0</td>\n      <td>no heel</td>\n      <td>wide</td>\n    </tr>\n  </tbody>\n</table>\n<p>10098 rows × 12 columns</p>\n</div>"
     },
     "execution_count": 12,
     "metadata": {},
     "output_type": "execute_result"
    }
   ],
   "source": [
    "find_numbers = lambda string: re.findall(\"\\d+\\.+\\d+\", string)\n",
    "\n",
    "def reformat_prices(prices):\n",
    "    prices = prices.apply(find_numbers)\n",
    "    for index in range(prices.shape[0]):\n",
    "        price = prices.get(index)\n",
    "        if price is None:\n",
    "            prices[index] = 0\n",
    "        elif len(price) > 1:\n",
    "            prices[index] = (float(price[0]) + float(price[1])) / 2\n",
    "        else:\n",
    "            prices[index] = float(price[0])\n",
    "    return prices\n",
    "\n",
    "raw_shoes.reset_index(inplace=True)\n",
    "raw_shoes['price'] = reformat_prices(raw_shoes['price'])\n",
    "raw_shoes.drop(columns=['index'], inplace=True)\n",
    "raw_shoes"
   ],
   "metadata": {
    "collapsed": false,
    "pycharm": {
     "name": "#%%\n"
    }
   }
  },
  {
   "cell_type": "code",
   "execution_count": 13,
   "outputs": [],
   "source": [
    "raw_shoes.to_csv('assets/csv/preprocessed_shoes.csv', index=False)"
   ],
   "metadata": {
    "collapsed": false,
    "pycharm": {
     "name": "#%%\n"
    }
   }
  },
  {
   "cell_type": "code",
   "execution_count": 14,
   "outputs": [],
   "source": [
    "raw_interactions.drop(raw_interactions[raw_interactions['value'] == False].index, inplace=True)\n",
    "raw_interactions.shape"
   ],
   "metadata": {
    "collapsed": false,
    "pycharm": {
     "name": "#%%\n"
    }
   }
  },
  {
   "cell_type": "code",
   "execution_count": 15,
   "outputs": [],
   "source": [
    "raw_interactions.to_csv('assets/csv/preprocessed_interactions.csv', index=False)"
   ],
   "metadata": {
    "collapsed": false,
    "pycharm": {
     "name": "#%%\n"
    }
   }
  },
  {
   "cell_type": "code",
   "execution_count": 15,
   "outputs": [],
   "source": [],
   "metadata": {
    "collapsed": false,
    "pycharm": {
     "name": "#%%\n"
    }
   }
  }
 ],
 "metadata": {
  "kernelspec": {
   "display_name": "Python 3",
   "language": "python",
   "name": "python3"
  },
  "language_info": {
   "codemirror_mode": {
    "name": "ipython",
    "version": 2
   },
   "file_extension": ".py",
   "mimetype": "text/x-python",
   "name": "python",
   "nbconvert_exporter": "python",
   "pygments_lexer": "ipython2",
   "version": "2.7.6"
  }
 },
 "nbformat": 4,
 "nbformat_minor": 0
}